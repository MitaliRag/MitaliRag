{
 "cells": [
  {
   "cell_type": "code",
   "execution_count": 1,
   "id": "34505523-b204-46e6-91a8-fa4fa7bae442",
   "metadata": {},
   "outputs": [
    {
     "data": {
      "text/plain": [
       "str"
      ]
     },
     "execution_count": 1,
     "metadata": {},
     "output_type": "execute_result"
    }
   ],
   "source": [
    "type (\"praharshani\")"
   ]
  },
  {
   "cell_type": "code",
   "execution_count": 2,
   "id": "93321962-9caa-4b06-ba56-417fe711b002",
   "metadata": {},
   "outputs": [
    {
     "data": {
      "text/plain": [
       "11"
      ]
     },
     "execution_count": 2,
     "metadata": {},
     "output_type": "execute_result"
    }
   ],
   "source": [
    "len (\"praharshani\")"
   ]
  },
  {
   "cell_type": "code",
   "execution_count": 3,
   "id": "939ed559-6ef1-471c-bf15-56602e15a4b6",
   "metadata": {},
   "outputs": [],
   "source": [
    "a=20"
   ]
  },
  {
   "cell_type": "code",
   "execution_count": 4,
   "id": "945a8ad0-58a8-4464-8b44-f9c14c972207",
   "metadata": {},
   "outputs": [
    {
     "data": {
      "text/plain": [
       "int"
      ]
     },
     "execution_count": 4,
     "metadata": {},
     "output_type": "execute_result"
    }
   ],
   "source": [
    "type(a)"
   ]
  },
  {
   "cell_type": "code",
   "execution_count": 12,
   "id": "ac2da9b8-c32d-43c8-a820-596044945415",
   "metadata": {},
   "outputs": [],
   "source": [
    "b=20\n",
    "c=a+b"
   ]
  },
  {
   "cell_type": "code",
   "execution_count": 13,
   "id": "1bde4c97-c818-4b39-a9d0-0a35e8793fa9",
   "metadata": {},
   "outputs": [
    {
     "name": "stdout",
     "output_type": "stream",
     "text": [
      "40\n"
     ]
    }
   ],
   "source": [
    "print(c)"
   ]
  },
  {
   "cell_type": "code",
   "execution_count": 17,
   "id": "7f47238b-c16b-472b-a92f-bf2cc94cfec8",
   "metadata": {},
   "outputs": [
    {
     "data": {
      "text/plain": [
       "'s'"
      ]
     },
     "execution_count": 17,
     "metadata": {},
     "output_type": "execute_result"
    }
   ],
   "source": [
    "d=\"praharshani\"\n",
    "d[6]"
   ]
  },
  {
   "cell_type": "code",
   "execution_count": 19,
   "id": "b1a548a2-8fba-4d2e-b86d-38f5c566a5e1",
   "metadata": {},
   "outputs": [
    {
     "data": {
      "text/plain": [
       "'prahars'"
      ]
     },
     "execution_count": 19,
     "metadata": {},
     "output_type": "execute_result"
    }
   ],
   "source": [
    "d[0:7]"
   ]
  },
  {
   "cell_type": "code",
   "execution_count": 20,
   "id": "55a68691-3d8c-4962-b978-526be08cd983",
   "metadata": {},
   "outputs": [
    {
     "data": {
      "text/plain": [
       "'praha'"
      ]
     },
     "execution_count": 20,
     "metadata": {},
     "output_type": "execute_result"
    }
   ],
   "source": [
    "d[:5]"
   ]
  },
  {
   "cell_type": "code",
   "execution_count": 21,
   "id": "3d707e74-ed09-4726-b4d6-d9e02dcc5f4c",
   "metadata": {},
   "outputs": [
    {
     "data": {
      "text/plain": [
       "'raharshani'"
      ]
     },
     "execution_count": 21,
     "metadata": {},
     "output_type": "execute_result"
    }
   ],
   "source": [
    "d[1:]"
   ]
  },
  {
   "cell_type": "code",
   "execution_count": null,
   "id": "18b093dc-d069-461e-90a2-b98a7c1cd743",
   "metadata": {},
   "outputs": [],
   "source": []
  }
 ],
 "metadata": {
  "kernelspec": {
   "display_name": "Python [conda env:base] *",
   "language": "python",
   "name": "conda-base-py"
  },
  "language_info": {
   "codemirror_mode": {
    "name": "ipython",
    "version": 3
   },
   "file_extension": ".py",
   "mimetype": "text/x-python",
   "name": "python",
   "nbconvert_exporter": "python",
   "pygments_lexer": "ipython3",
   "version": "3.13.5"
  }
 },
 "nbformat": 4,
 "nbformat_minor": 5
}
